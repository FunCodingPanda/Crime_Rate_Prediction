{
 "cells": [
  {
   "cell_type": "code",
   "execution_count": 1,
   "metadata": {},
   "outputs": [],
   "source": [
    "import pandas as pd \n",
    "import numpy as np \n",
    "import seaborn as sns\n",
    "import matplotlib.pyplot as plt \n",
    "from fbprophet import Prophet"
   ]
  },
  {
   "cell_type": "markdown",
   "metadata": {},
   "source": [
    "Sometimes there are fields missing, but one thing you could do to combat is to include error bad lines as False"
   ]
  },
  {
   "cell_type": "code",
   "execution_count": 6,
   "metadata": {},
   "outputs": [
    {
     "name": "stderr",
     "output_type": "stream",
     "text": [
      "b'Skipping line 1513591: expected 23 fields, saw 24\\n'\n",
      "/anaconda3/lib/python3.7/site-packages/IPython/core/interactiveshell.py:3063: DtypeWarning:\n",
      "\n",
      "Columns (17,20) have mixed types.Specify dtype option on import or set low_memory=False.\n",
      "\n"
     ]
    }
   ],
   "source": [
    "chicago_1 = pd.read_csv('/Users/sophie/Desktop/Crime_Rate_Prediction/Chicago_Crimes_2001_to_2004.csv', error_bad_lines = False)"
   ]
  },
  {
   "cell_type": "code",
   "execution_count": 7,
   "metadata": {},
   "outputs": [
    {
     "name": "stderr",
     "output_type": "stream",
     "text": [
      "b'Skipping line 533719: expected 23 fields, saw 24\\n'\n"
     ]
    }
   ],
   "source": [
    "chicago_2 = pd.read_csv('/Users/sophie/Desktop/Crime_Rate_Prediction/Chicago_Crimes_2005_to_2007.csv', error_bad_lines = False)"
   ]
  },
  {
   "cell_type": "code",
   "execution_count": 8,
   "metadata": {},
   "outputs": [
    {
     "name": "stderr",
     "output_type": "stream",
     "text": [
      "b'Skipping line 1149094: expected 23 fields, saw 41\\n'\n"
     ]
    }
   ],
   "source": [
    "chicago_3 = pd.read_csv('/Users/sophie/Desktop/Crime_Rate_Prediction/Chicago_Crimes_2008_to_2011.csv', error_bad_lines = False)"
   ]
  },
  {
   "cell_type": "code",
   "execution_count": 9,
   "metadata": {},
   "outputs": [],
   "source": [
    "chicago_4 = pd.read_csv('/Users/sophie/Desktop/Crime_Rate_Prediction/Chicago_Crimes_2012_to_2017.csv', error_bad_lines = False)"
   ]
  },
  {
   "cell_type": "markdown",
   "metadata": {},
   "source": [
    "How to put all the data into one data frame. "
   ]
  },
  {
   "cell_type": "code",
   "execution_count": 11,
   "metadata": {},
   "outputs": [
    {
     "data": {
      "text/html": [
       "<div>\n",
       "<style scoped>\n",
       "    .dataframe tbody tr th:only-of-type {\n",
       "        vertical-align: middle;\n",
       "    }\n",
       "\n",
       "    .dataframe tbody tr th {\n",
       "        vertical-align: top;\n",
       "    }\n",
       "\n",
       "    .dataframe thead th {\n",
       "        text-align: right;\n",
       "    }\n",
       "</style>\n",
       "<table border=\"1\" class=\"dataframe\">\n",
       "  <thead>\n",
       "    <tr style=\"text-align: right;\">\n",
       "      <th></th>\n",
       "      <th>Unnamed: 0</th>\n",
       "      <th>ID</th>\n",
       "      <th>Case Number</th>\n",
       "      <th>Date</th>\n",
       "      <th>Block</th>\n",
       "      <th>IUCR</th>\n",
       "      <th>Primary Type</th>\n",
       "      <th>Description</th>\n",
       "      <th>Location Description</th>\n",
       "      <th>Arrest</th>\n",
       "      <th>...</th>\n",
       "      <th>Ward</th>\n",
       "      <th>Community Area</th>\n",
       "      <th>FBI Code</th>\n",
       "      <th>X Coordinate</th>\n",
       "      <th>Y Coordinate</th>\n",
       "      <th>Year</th>\n",
       "      <th>Updated On</th>\n",
       "      <th>Latitude</th>\n",
       "      <th>Longitude</th>\n",
       "      <th>Location</th>\n",
       "    </tr>\n",
       "  </thead>\n",
       "  <tbody>\n",
       "    <tr>\n",
       "      <th>0</th>\n",
       "      <td>0</td>\n",
       "      <td>4673626</td>\n",
       "      <td>HM274058</td>\n",
       "      <td>04/02/2006 01:00:00 PM</td>\n",
       "      <td>055XX N MANGO AVE</td>\n",
       "      <td>2825</td>\n",
       "      <td>OTHER OFFENSE</td>\n",
       "      <td>HARASSMENT BY TELEPHONE</td>\n",
       "      <td>RESIDENCE</td>\n",
       "      <td>False</td>\n",
       "      <td>...</td>\n",
       "      <td>45.0</td>\n",
       "      <td>11.0</td>\n",
       "      <td>26</td>\n",
       "      <td>1136872.0</td>\n",
       "      <td>1936499.0</td>\n",
       "      <td>2006</td>\n",
       "      <td>04/15/2016 08:55:02 AM</td>\n",
       "      <td>41.981913</td>\n",
       "      <td>-87.771996</td>\n",
       "      <td>(41.981912692, -87.771996382)</td>\n",
       "    </tr>\n",
       "    <tr>\n",
       "      <th>1</th>\n",
       "      <td>1</td>\n",
       "      <td>4673627</td>\n",
       "      <td>HM202199</td>\n",
       "      <td>02/26/2006 01:40:48 PM</td>\n",
       "      <td>065XX S RHODES AVE</td>\n",
       "      <td>2017</td>\n",
       "      <td>NARCOTICS</td>\n",
       "      <td>MANU/DELIVER:CRACK</td>\n",
       "      <td>SIDEWALK</td>\n",
       "      <td>True</td>\n",
       "      <td>...</td>\n",
       "      <td>20.0</td>\n",
       "      <td>42.0</td>\n",
       "      <td>18</td>\n",
       "      <td>1181027.0</td>\n",
       "      <td>1861693.0</td>\n",
       "      <td>2006</td>\n",
       "      <td>04/15/2016 08:55:02 AM</td>\n",
       "      <td>41.775733</td>\n",
       "      <td>-87.611920</td>\n",
       "      <td>(41.775732538, -87.611919814)</td>\n",
       "    </tr>\n",
       "    <tr>\n",
       "      <th>2</th>\n",
       "      <td>2</td>\n",
       "      <td>4673628</td>\n",
       "      <td>HM113861</td>\n",
       "      <td>01/08/2006 11:16:00 PM</td>\n",
       "      <td>013XX E 69TH ST</td>\n",
       "      <td>051A</td>\n",
       "      <td>ASSAULT</td>\n",
       "      <td>AGGRAVATED: HANDGUN</td>\n",
       "      <td>OTHER</td>\n",
       "      <td>False</td>\n",
       "      <td>...</td>\n",
       "      <td>5.0</td>\n",
       "      <td>69.0</td>\n",
       "      <td>04A</td>\n",
       "      <td>1186023.0</td>\n",
       "      <td>1859609.0</td>\n",
       "      <td>2006</td>\n",
       "      <td>04/15/2016 08:55:02 AM</td>\n",
       "      <td>41.769897</td>\n",
       "      <td>-87.593671</td>\n",
       "      <td>(41.769897392, -87.593670899)</td>\n",
       "    </tr>\n",
       "    <tr>\n",
       "      <th>3</th>\n",
       "      <td>4</td>\n",
       "      <td>4673629</td>\n",
       "      <td>HM274049</td>\n",
       "      <td>04/05/2006 06:45:00 PM</td>\n",
       "      <td>061XX W NEWPORT AVE</td>\n",
       "      <td>0460</td>\n",
       "      <td>BATTERY</td>\n",
       "      <td>SIMPLE</td>\n",
       "      <td>RESIDENCE</td>\n",
       "      <td>False</td>\n",
       "      <td>...</td>\n",
       "      <td>38.0</td>\n",
       "      <td>17.0</td>\n",
       "      <td>08B</td>\n",
       "      <td>1134772.0</td>\n",
       "      <td>1922299.0</td>\n",
       "      <td>2006</td>\n",
       "      <td>04/15/2016 08:55:02 AM</td>\n",
       "      <td>41.942984</td>\n",
       "      <td>-87.780057</td>\n",
       "      <td>(41.942984005, -87.780056951)</td>\n",
       "    </tr>\n",
       "    <tr>\n",
       "      <th>4</th>\n",
       "      <td>5</td>\n",
       "      <td>4673630</td>\n",
       "      <td>HM187120</td>\n",
       "      <td>02/17/2006 09:03:14 PM</td>\n",
       "      <td>037XX W 60TH ST</td>\n",
       "      <td>1811</td>\n",
       "      <td>NARCOTICS</td>\n",
       "      <td>POSS: CANNABIS 30GMS OR LESS</td>\n",
       "      <td>ALLEY</td>\n",
       "      <td>True</td>\n",
       "      <td>...</td>\n",
       "      <td>13.0</td>\n",
       "      <td>65.0</td>\n",
       "      <td>18</td>\n",
       "      <td>1152412.0</td>\n",
       "      <td>1864560.0</td>\n",
       "      <td>2006</td>\n",
       "      <td>04/15/2016 08:55:02 AM</td>\n",
       "      <td>41.784211</td>\n",
       "      <td>-87.716745</td>\n",
       "      <td>(41.784210853, -87.71674491)</td>\n",
       "    </tr>\n",
       "  </tbody>\n",
       "</table>\n",
       "<p>5 rows × 23 columns</p>\n",
       "</div>"
      ],
      "text/plain": [
       "   Unnamed: 0       ID Case Number                    Date  \\\n",
       "0           0  4673626    HM274058  04/02/2006 01:00:00 PM   \n",
       "1           1  4673627    HM202199  02/26/2006 01:40:48 PM   \n",
       "2           2  4673628    HM113861  01/08/2006 11:16:00 PM   \n",
       "3           4  4673629    HM274049  04/05/2006 06:45:00 PM   \n",
       "4           5  4673630    HM187120  02/17/2006 09:03:14 PM   \n",
       "\n",
       "                 Block  IUCR   Primary Type                   Description  \\\n",
       "0    055XX N MANGO AVE  2825  OTHER OFFENSE       HARASSMENT BY TELEPHONE   \n",
       "1   065XX S RHODES AVE  2017      NARCOTICS            MANU/DELIVER:CRACK   \n",
       "2      013XX E 69TH ST  051A        ASSAULT           AGGRAVATED: HANDGUN   \n",
       "3  061XX W NEWPORT AVE  0460        BATTERY                        SIMPLE   \n",
       "4      037XX W 60TH ST  1811      NARCOTICS  POSS: CANNABIS 30GMS OR LESS   \n",
       "\n",
       "  Location Description  Arrest  ...  Ward  Community Area  FBI Code  \\\n",
       "0            RESIDENCE   False  ...  45.0            11.0        26   \n",
       "1             SIDEWALK    True  ...  20.0            42.0        18   \n",
       "2                OTHER   False  ...   5.0            69.0       04A   \n",
       "3            RESIDENCE   False  ...  38.0            17.0       08B   \n",
       "4                ALLEY    True  ...  13.0            65.0        18   \n",
       "\n",
       "   X Coordinate  Y Coordinate  Year              Updated On   Latitude  \\\n",
       "0     1136872.0     1936499.0  2006  04/15/2016 08:55:02 AM  41.981913   \n",
       "1     1181027.0     1861693.0  2006  04/15/2016 08:55:02 AM  41.775733   \n",
       "2     1186023.0     1859609.0  2006  04/15/2016 08:55:02 AM  41.769897   \n",
       "3     1134772.0     1922299.0  2006  04/15/2016 08:55:02 AM  41.942984   \n",
       "4     1152412.0     1864560.0  2006  04/15/2016 08:55:02 AM  41.784211   \n",
       "\n",
       "   Longitude                       Location  \n",
       "0 -87.771996  (41.981912692, -87.771996382)  \n",
       "1 -87.611920  (41.775732538, -87.611919814)  \n",
       "2 -87.593671  (41.769897392, -87.593670899)  \n",
       "3 -87.780057  (41.942984005, -87.780056951)  \n",
       "4 -87.716745   (41.784210853, -87.71674491)  \n",
       "\n",
       "[5 rows x 23 columns]"
      ]
     },
     "execution_count": 11,
     "metadata": {},
     "output_type": "execute_result"
    }
   ],
   "source": [
    "chicago_df = pd.concat([chicago_2, chicago_3, chicago_4])\n",
    "chicago_df.head()"
   ]
  },
  {
   "cell_type": "code",
   "execution_count": null,
   "metadata": {},
   "outputs": [],
   "source": []
  },
  {
   "cell_type": "code",
   "execution_count": null,
   "metadata": {},
   "outputs": [],
   "source": []
  },
  {
   "cell_type": "code",
   "execution_count": null,
   "metadata": {},
   "outputs": [],
   "source": []
  },
  {
   "cell_type": "code",
   "execution_count": null,
   "metadata": {},
   "outputs": [],
   "source": []
  }
 ],
 "metadata": {
  "kernelspec": {
   "display_name": "Python 3",
   "language": "python",
   "name": "python3"
  },
  "language_info": {
   "codemirror_mode": {
    "name": "ipython",
    "version": 3
   },
   "file_extension": ".py",
   "mimetype": "text/x-python",
   "name": "python",
   "nbconvert_exporter": "python",
   "pygments_lexer": "ipython3",
   "version": "3.7.1"
  }
 },
 "nbformat": 4,
 "nbformat_minor": 4
}
